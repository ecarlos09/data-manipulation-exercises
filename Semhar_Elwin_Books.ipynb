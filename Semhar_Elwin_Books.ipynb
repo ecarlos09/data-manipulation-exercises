{
  "nbformat": 4,
  "nbformat_minor": 0,
  "metadata": {
    "colab": {
      "name": "Semhar_Elwin_Books.ipynb",
      "provenance": [],
      "authorship_tag": "ABX9TyNuHS+VvJPv1rm43z7MyFuD",
      "include_colab_link": true
    },
    "kernelspec": {
      "name": "python3",
      "display_name": "Python 3"
    },
    "language_info": {
      "name": "python"
    }
  },
  "cells": [
    {
      "cell_type": "markdown",
      "metadata": {
        "id": "view-in-github",
        "colab_type": "text"
      },
      "source": [
        "<a href=\"https://colab.research.google.com/github/ecarlos09/data-manipulation-exercises/blob/main/Semhar_Elwin_Books.ipynb\" target=\"_parent\"><img src=\"https://colab.research.google.com/assets/colab-badge.svg\" alt=\"Open In Colab\"/></a>"
      ]
    },
    {
      "cell_type": "code",
      "metadata": {
        "id": "RVtWPfj4wLkE"
      },
      "source": [
        "import requests\n",
        "import json\n",
        "import csv\n",
        "import pandas as pd"
      ],
      "execution_count": null,
      "outputs": []
    },
    {
      "cell_type": "code",
      "metadata": {
        "id": "yfTdU-KlxGpb"
      },
      "source": [
        "# Fetch book data\n",
        "response = requests.get('https://anapioficeandfire.com/api/books/')\n",
        "book_data = response.json()"
      ],
      "execution_count": null,
      "outputs": []
    },
    {
      "cell_type": "code",
      "metadata": {
        "colab": {
          "base_uri": "https://localhost:8080/"
        },
        "id": "BD56AUltxZVE",
        "outputId": "aac4359c-2bf4-4a04-b268-db8e0dce8c89"
      },
      "source": [
        "# Extract desired book information\n",
        "\n",
        "def select_book_data(book):\n",
        "  return {\n",
        "      \"title\": book[\"name\"],\n",
        "      \"num_pages\": book[\"numberOfPages\"],\n",
        "      \"character_count\": len(book[\"characters\"]),\n",
        "      \"released\": book[\"released\"]\n",
        "  }\n",
        "\n",
        "books = [select_book_data(b) for b in book_data]\n",
        "print(f'{len(books)} books have been created!')\n",
        "books[0]"
      ],
      "execution_count": null,
      "outputs": [
        {
          "output_type": "stream",
          "text": [
            "10 books have been created!\n"
          ],
          "name": "stdout"
        },
        {
          "output_type": "execute_result",
          "data": {
            "text/plain": [
              "{'character_count': 434,\n",
              " 'num_pages': 694,\n",
              " 'released': '1996-08-01T00:00:00',\n",
              " 'title': 'A Game of Thrones'}"
            ]
          },
          "metadata": {
            "tags": []
          },
          "execution_count": 154
        }
      ]
    },
    {
      "cell_type": "code",
      "metadata": {
        "id": "gCeIKNEC5tMq"
      },
      "source": [
        "# Create a CSV file for books\n",
        "\n",
        "headers = ['title', 'num_pages', 'character_count', 'released']\n",
        "\n",
        "with open(\"data/gotbooks.csv\", \"w\", newline='') as file:\n",
        "    f = csv.writer(file)\n",
        "    f.writerow(headers)\n",
        "    for b in books:\n",
        "        values = [b[h] for h in headers]\n",
        "        f.writerow(values)"
      ],
      "execution_count": null,
      "outputs": []
    },
    {
      "cell_type": "code",
      "metadata": {
        "colab": {
          "base_uri": "https://localhost:8080/",
          "height": 202
        },
        "id": "_a8Syj4F6Zjs",
        "outputId": "7d47fef9-fde2-4b89-e4af-607c44a1aecb"
      },
      "source": [
        "# Create dataframe for books\n",
        "\n",
        "books_df = pd.read_csv('data/gotbooks.csv')\n",
        "books_df.head()"
      ],
      "execution_count": null,
      "outputs": [
        {
          "output_type": "execute_result",
          "data": {
            "text/html": [
              "<div>\n",
              "<style scoped>\n",
              "    .dataframe tbody tr th:only-of-type {\n",
              "        vertical-align: middle;\n",
              "    }\n",
              "\n",
              "    .dataframe tbody tr th {\n",
              "        vertical-align: top;\n",
              "    }\n",
              "\n",
              "    .dataframe thead th {\n",
              "        text-align: right;\n",
              "    }\n",
              "</style>\n",
              "<table border=\"1\" class=\"dataframe\">\n",
              "  <thead>\n",
              "    <tr style=\"text-align: right;\">\n",
              "      <th></th>\n",
              "      <th>title</th>\n",
              "      <th>num_pages</th>\n",
              "      <th>character_count</th>\n",
              "      <th>released</th>\n",
              "    </tr>\n",
              "  </thead>\n",
              "  <tbody>\n",
              "    <tr>\n",
              "      <th>0</th>\n",
              "      <td>A Game of Thrones</td>\n",
              "      <td>694</td>\n",
              "      <td>434</td>\n",
              "      <td>1996-08-01T00:00:00</td>\n",
              "    </tr>\n",
              "    <tr>\n",
              "      <th>1</th>\n",
              "      <td>A Clash of Kings</td>\n",
              "      <td>768</td>\n",
              "      <td>778</td>\n",
              "      <td>1999-02-02T00:00:00</td>\n",
              "    </tr>\n",
              "    <tr>\n",
              "      <th>2</th>\n",
              "      <td>A Storm of Swords</td>\n",
              "      <td>992</td>\n",
              "      <td>1021</td>\n",
              "      <td>2000-10-31T00:00:00</td>\n",
              "    </tr>\n",
              "    <tr>\n",
              "      <th>3</th>\n",
              "      <td>The Hedge Knight</td>\n",
              "      <td>164</td>\n",
              "      <td>54</td>\n",
              "      <td>2005-03-09T00:00:00</td>\n",
              "    </tr>\n",
              "    <tr>\n",
              "      <th>4</th>\n",
              "      <td>A Feast for Crows</td>\n",
              "      <td>784</td>\n",
              "      <td>1241</td>\n",
              "      <td>2005-11-08T00:00:00</td>\n",
              "    </tr>\n",
              "  </tbody>\n",
              "</table>\n",
              "</div>"
            ],
            "text/plain": [
              "               title  num_pages  character_count             released\n",
              "0  A Game of Thrones        694              434  1996-08-01T00:00:00\n",
              "1   A Clash of Kings        768              778  1999-02-02T00:00:00\n",
              "2  A Storm of Swords        992             1021  2000-10-31T00:00:00\n",
              "3   The Hedge Knight        164               54  2005-03-09T00:00:00\n",
              "4  A Feast for Crows        784             1241  2005-11-08T00:00:00"
            ]
          },
          "metadata": {
            "tags": []
          },
          "execution_count": 156
        }
      ]
    },
    {
      "cell_type": "code",
      "metadata": {
        "colab": {
          "base_uri": "https://localhost:8080/"
        },
        "id": "sCmsKXbtbPtR",
        "outputId": "7c6ad51c-4dbb-4141-f3f8-6df9462a265a"
      },
      "source": [
        "# Clean released column\n",
        "\n",
        "print(type(books_df['released'][0]))\n",
        "books_df['released'] = pd.to_datetime(books_df['released'])\n",
        "print(books_df)"
      ],
      "execution_count": null,
      "outputs": [
        {
          "output_type": "stream",
          "text": [
            "<class 'str'>\n",
            "                        title  num_pages  character_count   released\n",
            "0           A Game of Thrones        694              434 1996-08-01\n",
            "1            A Clash of Kings        768              778 1999-02-02\n",
            "2           A Storm of Swords        992             1021 2000-10-31\n",
            "3            The Hedge Knight        164               54 2005-03-09\n",
            "4           A Feast for Crows        784             1241 2005-11-08\n",
            "5             The Sworn Sword        152               84 2008-06-18\n",
            "6          The Mystery Knight        416               71 2011-03-29\n",
            "7        A Dance with Dragons       1040              861 2011-07-12\n",
            "8  The Princess and the Queen        784               57 2013-12-03\n",
            "9            The Rogue Prince        832               55 2014-06-17\n"
          ],
          "name": "stdout"
        }
      ]
    },
    {
      "cell_type": "markdown",
      "metadata": {
        "id": "EF1vtCFrgqwi"
      },
      "source": [
        "Now we have our data, let's make some predictions!\n",
        "\n",
        "Usually the number of pages in a book increases with every release.  One could also reasonably expect the number of characters in a book to correlate with the number of pages.  The same could apply for character count versus book release, as one might expect more characters to be introduced as the series goes on.  However, since this is George R R Martin we're talking about, the number of characters is likely to peak somewhere in the middle of the book series, before he starts killing them all off ...\n",
        "\n",
        "So our formal predictions are:\n",
        "\n",
        "*   The more recent the release date, the larger the number of pages in the book\n",
        "*   The larger the number of pages in the book, the greater the character count\n",
        "*   Character count will increase with each new book release, before reaching a peak in the middle of the series and then steadily decreasing\n",
        "\n",
        "\n",
        "\n"
      ]
    },
    {
      "cell_type": "markdown",
      "metadata": {
        "id": "c6F1_xYCcqml"
      },
      "source": [
        "Let's create some scatter graphs to test our predictions!"
      ]
    },
    {
      "cell_type": "code",
      "metadata": {
        "colab": {
          "base_uri": "https://localhost:8080/",
          "height": 297
        },
        "id": "bDWRpI3lgBU7",
        "outputId": "103bab88-e73f-49c2-c50d-97eb1c815b28"
      },
      "source": [
        "# Release date vs page count\n",
        "\n",
        "books_df.plot('released', 'num_pages', kind='scatter')"
      ],
      "execution_count": null,
      "outputs": [
        {
          "output_type": "execute_result",
          "data": {
            "text/plain": [
              "<matplotlib.axes._subplots.AxesSubplot at 0x7fddca9851d0>"
            ]
          },
          "metadata": {
            "tags": []
          },
          "execution_count": 159
        },
        {
          "output_type": "display_data",
          "data": {
            "image/png": "[encoded data removed]",
            "text/plain": [
              "<Figure size 432x288 with 1 Axes>"
            ]
          },
          "metadata": {
            "tags": [],
            "needs_background": "light"
          }
        }
      ]
    },
    {
      "cell_type": "code",
      "metadata": {
        "colab": {
          "base_uri": "https://localhost:8080/",
          "height": 297
        },
        "id": "u2DJ29kucxwL",
        "outputId": "4bf14d02-d3de-431a-84ea-15f914fca4bf"
      },
      "source": [
        "# Page count vs character count\n",
        "\n",
        "books_df.plot('num_pages', 'character_count', kind='scatter')"
      ],
      "execution_count": null,
      "outputs": [
        {
          "output_type": "execute_result",
          "data": {
            "text/plain": [
              "<matplotlib.axes._subplots.AxesSubplot at 0x7fddca891c10>"
            ]
          },
          "metadata": {
            "tags": []
          },
          "execution_count": 158
        },
        {
          "output_type": "display_data",
          "data": {
            "image/png": "[encoded data removed]",
            "text/plain": [
              "<Figure size 432x288 with 1 Axes>"
            ]
          },
          "metadata": {
            "tags": [],
            "needs_background": "light"
          }
        }
      ]
    },
    {
      "cell_type": "code",
      "metadata": {
        "colab": {
          "base_uri": "https://localhost:8080/",
          "height": 287
        },
        "id": "crDtnOU-Xjzw",
        "outputId": "024141c3-fea9-4e18-fa5a-e23df08af7bd"
      },
      "source": [
        "# Release date vs character count\n",
        "\n",
        "books_df.plot('released', 'character_count', kind='line')"
      ],
      "execution_count": null,
      "outputs": [
        {
          "output_type": "execute_result",
          "data": {
            "text/plain": [
              "<matplotlib.axes._subplots.AxesSubplot at 0x7fddca7ed850>"
            ]
          },
          "metadata": {
            "tags": []
          },
          "execution_count": 160
        },
        {
          "output_type": "display_data",
          "data": {
            "image/png": "[encoded data removed]",
            "text/plain": [
              "<Figure size 432x288 with 1 Axes>"
            ]
          },
          "metadata": {
            "tags": [],
            "needs_background": "light"
          }
        }
      ]
    },
    {
      "cell_type": "markdown",
      "metadata": {
        "id": "r3de4dKYi5yO"
      },
      "source": [
        "**Conclusions:**\n",
        "\n",
        "None of our predictions really worked out!  There does not seem to be any correlation between any of the variables that we tested.  Oh well!"
      ]
    }
  ]
}